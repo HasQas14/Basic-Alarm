{
 "cells": [
  {
   "cell_type": "code",
   "execution_count": 1,
   "metadata": {},
   "outputs": [
    {
     "data": {
      "text/plain": [
       "'A simple clock where it plays a sound after X number of minutes/seconds or at a particular time.'"
      ]
     },
     "execution_count": 1,
     "metadata": {},
     "output_type": "execute_result"
    }
   ],
   "source": [
    "# Docstring\n",
    "\"\"\"A simple clock where it plays a sound after X number of minutes/seconds or at a particular time.\"\"\""
   ]
  },
  {
   "cell_type": "code",
   "execution_count": null,
   "metadata": {},
   "outputs": [],
   "source": [
    "from datetime import date,datetime,timedelta\n",
    "import winsound\n",
    "import time"
   ]
  },
  {
   "cell_type": "code",
   "execution_count": null,
   "metadata": {},
   "outputs": [
    {
     "name": "stdout",
     "output_type": "stream",
     "text": [
      "Set ALarm time: \n"
     ]
    }
   ],
   "source": [
    "from datetime import date,datetime,timedelta\n",
    "import winsound\n",
    "import time\n",
    "print(\"Set ALarm time: \")\n",
    "while True:\n",
    "    try:\n",
    "        t_h = int(input(\"Hour: \"))\n",
    "        t_m = int(input(\"Minute: \"))\n",
    "    except ValueError:\n",
    "        print(\"Wrong Input!\")\n",
    "        continue\n",
    "    else:\n",
    "        break\n",
    "t_am_or_pm = input(\"AM Or PM?  \").upper()\n",
    "        \n",
    "while True:\n",
    "        if t_am_or_pm == \"AM\" or t_am_or_pm == \"PM\":\n",
    "            t = (\"%02d\")%t_h+\":\"+(\"%02d\")%t_m+\" \"+t_am_or_pm\n",
    "            print(t)\n",
    "            break\n",
    "        else:\n",
    "            print(\"Please Enter correct timezone\")\n",
    "            t_am_or_pm = input(\"AM Or PM?  \")\n",
    "            continue"
   ]
  },
  {
   "cell_type": "code",
   "execution_count": 25,
   "metadata": {},
   "outputs": [
    {
     "name": "stdout",
     "output_type": "stream",
     "text": [
      "10:07:00\n"
     ]
    }
   ],
   "source": [
    "t_usr = datetime.strptime(t,'%H:%M %p').time()\n",
    "print(t_usr)"
   ]
  },
  {
   "cell_type": "code",
   "execution_count": 31,
   "metadata": {},
   "outputs": [
    {
     "name": "stdout",
     "output_type": "stream",
     "text": [
      "10:08:17\n"
     ]
    }
   ],
   "source": [
    "t_now = datetime.now().strftime('%I:%M:%S')\n",
    "t_now = datetime.strptime(t_now,'%I:%M:%S').time()\n",
    "print(t_now)"
   ]
  },
  {
   "cell_type": "code",
   "execution_count": 27,
   "metadata": {},
   "outputs": [
    {
     "name": "stdout",
     "output_type": "stream",
     "text": [
      "86378\n"
     ]
    }
   ],
   "source": [
    "# Main\n",
    "diff = datetime.combine(date.min, t_usr) - datetime.combine(date.min, t_now)\n",
    "diff_int = diff.seconds\n",
    "print(diff_int)"
   ]
  },
  {
   "cell_type": "code",
   "execution_count": 20,
   "metadata": {},
   "outputs": [],
   "source": [
    "time.sleep(diff_int)"
   ]
  },
  {
   "cell_type": "code",
   "execution_count": 21,
   "metadata": {},
   "outputs": [],
   "source": [
    "for i in range(5):\n",
    "    winsound.Beep(1000,100)\n",
    "    winsound.Beep(1000,100)\n",
    "    time.sleep(1)"
   ]
  }
 ],
 "metadata": {
  "kernelspec": {
   "display_name": "Python 3",
   "language": "python",
   "name": "python3"
  },
  "language_info": {
   "codemirror_mode": {
    "name": "ipython",
    "version": 3
   },
   "file_extension": ".py",
   "mimetype": "text/x-python",
   "name": "python",
   "nbconvert_exporter": "python",
   "pygments_lexer": "ipython3",
   "version": "3.7.3"
  }
 },
 "nbformat": 4,
 "nbformat_minor": 2
}
